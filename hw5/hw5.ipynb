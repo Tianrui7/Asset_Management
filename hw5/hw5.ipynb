{
 "cells": [
  {
   "cell_type": "code",
   "execution_count": 17,
   "metadata": {},
   "outputs": [],
   "source": [
    "import math\n",
    "import numpy as np\n",
    "import numpy.linalg as la\n",
    "import pandas as pd\n",
    "import matplotlib.pyplot as plt"
   ]
  },
  {
   "cell_type": "code",
   "execution_count": 37,
   "metadata": {},
   "outputs": [
    {
     "data": {
      "text/html": [
       "<div>\n",
       "<style scoped>\n",
       "    .dataframe tbody tr th:only-of-type {\n",
       "        vertical-align: middle;\n",
       "    }\n",
       "\n",
       "    .dataframe tbody tr th {\n",
       "        vertical-align: top;\n",
       "    }\n",
       "\n",
       "    .dataframe thead th {\n",
       "        text-align: right;\n",
       "    }\n",
       "</style>\n",
       "<table border=\"1\" class=\"dataframe\">\n",
       "  <thead>\n",
       "    <tr style=\"text-align: right;\">\n",
       "      <th></th>\n",
       "      <th>Bond Market</th>\n",
       "      <th>Growth Fund</th>\n",
       "      <th>Metal Fund</th>\n",
       "      <th>Stock Market</th>\n",
       "      <th>Value Fund</th>\n",
       "      <th>Admiral Shares</th>\n",
       "    </tr>\n",
       "  </thead>\n",
       "  <tbody>\n",
       "    <tr>\n",
       "      <th>0</th>\n",
       "      <td>1.000271</td>\n",
       "      <td>-0.000165</td>\n",
       "      <td>0.000422</td>\n",
       "      <td>-0.000305</td>\n",
       "      <td>-0.000175</td>\n",
       "      <td>0.000237</td>\n",
       "    </tr>\n",
       "    <tr>\n",
       "      <th>1</th>\n",
       "      <td>-0.000165</td>\n",
       "      <td>1.010713</td>\n",
       "      <td>0.010735</td>\n",
       "      <td>0.007441</td>\n",
       "      <td>0.009745</td>\n",
       "      <td>0.007536</td>\n",
       "    </tr>\n",
       "    <tr>\n",
       "      <th>2</th>\n",
       "      <td>0.000422</td>\n",
       "      <td>0.010735</td>\n",
       "      <td>1.024614</td>\n",
       "      <td>0.006975</td>\n",
       "      <td>0.009980</td>\n",
       "      <td>0.008250</td>\n",
       "    </tr>\n",
       "    <tr>\n",
       "      <th>3</th>\n",
       "      <td>-0.000305</td>\n",
       "      <td>0.007441</td>\n",
       "      <td>0.006975</td>\n",
       "      <td>1.006736</td>\n",
       "      <td>0.007029</td>\n",
       "      <td>0.007345</td>\n",
       "    </tr>\n",
       "    <tr>\n",
       "      <th>4</th>\n",
       "      <td>-0.000175</td>\n",
       "      <td>0.009745</td>\n",
       "      <td>0.009980</td>\n",
       "      <td>0.007029</td>\n",
       "      <td>1.009283</td>\n",
       "      <td>0.007224</td>\n",
       "    </tr>\n",
       "    <tr>\n",
       "      <th>5</th>\n",
       "      <td>0.000237</td>\n",
       "      <td>0.007536</td>\n",
       "      <td>0.008250</td>\n",
       "      <td>0.007345</td>\n",
       "      <td>0.007224</td>\n",
       "      <td>1.014327</td>\n",
       "    </tr>\n",
       "  </tbody>\n",
       "</table>\n",
       "</div>"
      ],
      "text/plain": [
       "   Bond Market  Growth Fund  Metal Fund  Stock Market  Value Fund  \\\n",
       "0     1.000271    -0.000165    0.000422     -0.000305   -0.000175   \n",
       "1    -0.000165     1.010713    0.010735      0.007441    0.009745   \n",
       "2     0.000422     0.010735    1.024614      0.006975    0.009980   \n",
       "3    -0.000305     0.007441    0.006975      1.006736    0.007029   \n",
       "4    -0.000175     0.009745    0.009980      0.007029    1.009283   \n",
       "5     0.000237     0.007536    0.008250      0.007345    0.007224   \n",
       "\n",
       "   Admiral Shares  \n",
       "0        0.000237  \n",
       "1        0.007536  \n",
       "2        0.008250  \n",
       "3        0.007345  \n",
       "4        0.007224  \n",
       "5        1.014327  "
      ]
     },
     "execution_count": 37,
     "metadata": {},
     "output_type": "execute_result"
    }
   ],
   "source": [
    "covariance = pd.read_excel(\"covariance_matrix.xls\")\n",
    "covariance"
   ]
  },
  {
   "cell_type": "markdown",
   "metadata": {},
   "source": [
    "# Question 1: Compute the optimal Sharpe ratio portfolio of the first six funds in the usual manner, except add 1 to all diagonal elements of the covariance matix and shrink all average returns halfway to the return that would give a Sharpe ratio of 0.5."
   ]
  },
  {
   "cell_type": "code",
   "execution_count": 52,
   "metadata": {},
   "outputs": [
    {
     "data": {
      "text/plain": [
       "array([ 0.1351955 ,  0.24028143, -0.11083237,  0.34933361,  0.09782671,\n",
       "        0.28819513])"
      ]
     },
     "execution_count": 52,
     "metadata": {},
     "output_type": "execute_result"
    }
   ],
   "source": [
    "mean_excess_return = [0.00693333,0.01269583,-0.00539583,0.01824375,0.0053625,0.01521875]\n",
    "optimal_weight = np.matmul((np.linalg.inv(covariance)),mean_excess_return)\n",
    "\n",
    "sum_weight = 0;\n",
    "for i in range (6):\n",
    "    sum_weight +=optimal_weight[i]\n",
    "\n",
    "optimal_weight = optimal_weight/sum_weight\n",
    "optimal_weight"
   ]
  },
  {
   "cell_type": "markdown",
   "metadata": {},
   "source": [
    "# Question2: Compute an optimal Black-Litterman portfolio using market cap weights of 5 (Bonds), 2 (International Growth), 1 (Metals), 5 (Stocks), 2 (International Value) and 3 (REIT) and moderate confidence in the following views: International Growth and Value will each beat Stocks by 2% per year, Bonds will have a 0% return, the return on Metals will be the opposite of the return on Bonds, Real Estate will have the average return of Stocks and Metals; all views independent. At all times, try to do the reasonable thing to get a reasonable portfolio result."
   ]
  },
  {
   "cell_type": "code",
   "execution_count": 95,
   "metadata": {},
   "outputs": [
    {
     "data": {
      "text/plain": [
       "array([0.85282605, 0.35998121, 0.19234897, 0.86814569, 0.35884514,\n",
       "       0.53190496])"
      ]
     },
     "execution_count": 95,
     "metadata": {},
     "output_type": "execute_result"
    }
   ],
   "source": [
    "#we choose lambda to be 3.07\n",
    "cap_weight = np.array([5.00, 2.00, 1.00, 5.00, 2.00, 3.00])\n",
    "sum_weight = 0\n",
    "for i in range (6):\n",
    "    sum_weight += cap_weight[i]\n",
    "cap_weight = cap_weight/sum_weight\n",
    "\n",
    "lambda_model = 3.07\n",
    "implied_excess_return = lambda_model*np.matmul(covariance,cap_weight)\n",
    "implied_excess_return"
   ]
  },
  {
   "cell_type": "code",
   "execution_count": 96,
   "metadata": {},
   "outputs": [],
   "source": [
    "Q = np.array([[2],[0],[0],[1]])\n",
    "P = np.array([[0,0.5,0,-1,0.5,0],[1,0,0,0,0,0],[0,0,1,0,0,0],[0,0,0,0,0,1]])\n",
    "\n",
    "omega = np.zeros((4,4))\n",
    "scalar_tow = 0.025\n",
    "for i in range(4):\n",
    "    omega[i][i] = scalar_tow*np.matmul(P[i],np.matmul(covariance,P[i].transpose()))"
   ]
  },
  {
   "cell_type": "code",
   "execution_count": 97,
   "metadata": {},
   "outputs": [
    {
     "data": {
      "text/plain": [
       "array([[0.42647652],\n",
       "       [0.78068007],\n",
       "       [0.09845059],\n",
       "       [0.03454134],\n",
       "       [0.77929563],\n",
       "       [0.76552022]])"
      ]
     },
     "execution_count": 97,
     "metadata": {},
     "output_type": "execute_result"
    }
   ],
   "source": [
    "expected_return = np.linalg.inv(np.linalg.inv(scalar_tow*covariance) + np.matmul(P.transpose(),np.matmul(np.linalg.inv(omega),P)))\n",
    "expected_return_second = np.matmul(np.linalg.inv(scalar_tow*covariance), implied_excess_return.reshape((-1,1)))+ np.matmul(P.transpose(),np.matmul(np.linalg.inv(omega),Q))  \n",
    "expected_return = np.matmul(expected_return,expected_return_second)\n",
    "expected_return"
   ]
  },
  {
   "cell_type": "code",
   "execution_count": null,
   "metadata": {},
   "outputs": [],
   "source": []
  }
 ],
 "metadata": {
  "kernelspec": {
   "display_name": "Python 3",
   "language": "python",
   "name": "python3"
  },
  "language_info": {
   "codemirror_mode": {
    "name": "ipython",
    "version": 3
   },
   "file_extension": ".py",
   "mimetype": "text/x-python",
   "name": "python",
   "nbconvert_exporter": "python",
   "pygments_lexer": "ipython3",
   "version": "3.6.4"
  }
 },
 "nbformat": 4,
 "nbformat_minor": 2
}
