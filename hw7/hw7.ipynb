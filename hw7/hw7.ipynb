{
 "cells": [
  {
   "cell_type": "code",
   "execution_count": 21,
   "metadata": {},
   "outputs": [
    {
     "name": "stderr",
     "output_type": "stream",
     "text": [
      "/anaconda3/lib/python3.6/site-packages/statsmodels/compat/pandas.py:56: FutureWarning: The pandas.core.datetools module is deprecated and will be removed in a future version. Please use the pandas.tseries module instead.\n",
      "  from pandas.core import datetools\n"
     ]
    }
   ],
   "source": [
    "import numpy as np\n",
    "import scipy\n",
    "import pandas as pd\n",
    "import matplotlib.pyplot as plt\n",
    "import math\n",
    "#import statsmodels\n",
    "import statsmodels.api as sm"
   ]
  },
  {
   "cell_type": "markdown",
   "metadata": {},
   "source": [
    "# Question 3: Try to reproduce the three charts in figure 1 of the paper."
   ]
  },
  {
   "cell_type": "markdown",
   "metadata": {},
   "source": [
    "First, we want to set up the data from raw data. We define rate of range of CPI as \n",
    "$$ \\text{rate of change} = \\frac {CPI_{t} - CPI_{t-1}}{CPI_{t-1}} $$"
   ]
  },
  {
   "cell_type": "code",
   "execution_count": 3,
   "metadata": {},
   "outputs": [
    {
     "data": {
      "text/html": [
       "<div>\n",
       "<style scoped>\n",
       "    .dataframe tbody tr th:only-of-type {\n",
       "        vertical-align: middle;\n",
       "    }\n",
       "\n",
       "    .dataframe tbody tr th {\n",
       "        vertical-align: top;\n",
       "    }\n",
       "\n",
       "    .dataframe thead th {\n",
       "        text-align: right;\n",
       "    }\n",
       "</style>\n",
       "<table border=\"1\" class=\"dataframe\">\n",
       "  <thead>\n",
       "    <tr style=\"text-align: right;\">\n",
       "      <th></th>\n",
       "      <th>Time</th>\n",
       "      <th>CPILFESL</th>\n",
       "      <th>UNRATE</th>\n",
       "      <th>COMPNFB</th>\n",
       "      <th>GDPDEF</th>\n",
       "      <th>ULCNFB</th>\n",
       "      <th>Unemployment Gap</th>\n",
       "    </tr>\n",
       "  </thead>\n",
       "  <tbody>\n",
       "    <tr>\n",
       "      <th>0</th>\n",
       "      <td>1980-01-01</td>\n",
       "      <td>0.009613</td>\n",
       "      <td>7.2</td>\n",
       "      <td>0.027</td>\n",
       "      <td>0.023</td>\n",
       "      <td>0.025</td>\n",
       "      <td>0.012</td>\n",
       "    </tr>\n",
       "    <tr>\n",
       "      <th>1</th>\n",
       "      <td>1981-01-01</td>\n",
       "      <td>0.007627</td>\n",
       "      <td>7.6</td>\n",
       "      <td>0.020</td>\n",
       "      <td>0.021</td>\n",
       "      <td>0.020</td>\n",
       "      <td>0.016</td>\n",
       "    </tr>\n",
       "    <tr>\n",
       "      <th>2</th>\n",
       "      <td>1982-01-01</td>\n",
       "      <td>0.003693</td>\n",
       "      <td>9.7</td>\n",
       "      <td>0.016</td>\n",
       "      <td>0.013</td>\n",
       "      <td>0.015</td>\n",
       "      <td>0.037</td>\n",
       "    </tr>\n",
       "    <tr>\n",
       "      <th>3</th>\n",
       "      <td>1983-01-01</td>\n",
       "      <td>0.003861</td>\n",
       "      <td>9.6</td>\n",
       "      <td>0.009</td>\n",
       "      <td>0.008</td>\n",
       "      <td>-0.002</td>\n",
       "      <td>0.036</td>\n",
       "    </tr>\n",
       "    <tr>\n",
       "      <th>4</th>\n",
       "      <td>1984-01-01</td>\n",
       "      <td>0.004004</td>\n",
       "      <td>7.5</td>\n",
       "      <td>0.011</td>\n",
       "      <td>0.009</td>\n",
       "      <td>0.007</td>\n",
       "      <td>0.015</td>\n",
       "    </tr>\n",
       "    <tr>\n",
       "      <th>5</th>\n",
       "      <td>1985-01-01</td>\n",
       "      <td>0.003521</td>\n",
       "      <td>7.2</td>\n",
       "      <td>0.014</td>\n",
       "      <td>0.007</td>\n",
       "      <td>0.008</td>\n",
       "      <td>0.012</td>\n",
       "    </tr>\n",
       "    <tr>\n",
       "      <th>6</th>\n",
       "      <td>1986-01-01</td>\n",
       "      <td>0.003089</td>\n",
       "      <td>7.0</td>\n",
       "      <td>0.013</td>\n",
       "      <td>0.005</td>\n",
       "      <td>0.007</td>\n",
       "      <td>0.010</td>\n",
       "    </tr>\n",
       "    <tr>\n",
       "      <th>7</th>\n",
       "      <td>1987-01-01</td>\n",
       "      <td>0.003397</td>\n",
       "      <td>6.2</td>\n",
       "      <td>0.008</td>\n",
       "      <td>0.007</td>\n",
       "      <td>0.005</td>\n",
       "      <td>0.002</td>\n",
       "    </tr>\n",
       "    <tr>\n",
       "      <th>8</th>\n",
       "      <td>1988-01-01</td>\n",
       "      <td>0.003796</td>\n",
       "      <td>5.5</td>\n",
       "      <td>0.012</td>\n",
       "      <td>0.010</td>\n",
       "      <td>0.010</td>\n",
       "      <td>-0.005</td>\n",
       "    </tr>\n",
       "    <tr>\n",
       "      <th>9</th>\n",
       "      <td>1989-01-01</td>\n",
       "      <td>0.003631</td>\n",
       "      <td>5.3</td>\n",
       "      <td>0.008</td>\n",
       "      <td>0.009</td>\n",
       "      <td>0.005</td>\n",
       "      <td>-0.007</td>\n",
       "    </tr>\n",
       "    <tr>\n",
       "      <th>10</th>\n",
       "      <td>1990-01-01</td>\n",
       "      <td>0.004329</td>\n",
       "      <td>5.6</td>\n",
       "      <td>0.015</td>\n",
       "      <td>0.010</td>\n",
       "      <td>0.013</td>\n",
       "      <td>-0.004</td>\n",
       "    </tr>\n",
       "    <tr>\n",
       "      <th>11</th>\n",
       "      <td>1991-01-01</td>\n",
       "      <td>0.003596</td>\n",
       "      <td>6.9</td>\n",
       "      <td>0.013</td>\n",
       "      <td>0.008</td>\n",
       "      <td>0.004</td>\n",
       "      <td>0.009</td>\n",
       "    </tr>\n",
       "    <tr>\n",
       "      <th>12</th>\n",
       "      <td>1992-01-01</td>\n",
       "      <td>0.002779</td>\n",
       "      <td>7.5</td>\n",
       "      <td>0.013</td>\n",
       "      <td>0.005</td>\n",
       "      <td>0.002</td>\n",
       "      <td>0.015</td>\n",
       "    </tr>\n",
       "    <tr>\n",
       "      <th>13</th>\n",
       "      <td>1993-01-01</td>\n",
       "      <td>0.002582</td>\n",
       "      <td>6.9</td>\n",
       "      <td>0.002</td>\n",
       "      <td>0.006</td>\n",
       "      <td>0.004</td>\n",
       "      <td>0.009</td>\n",
       "    </tr>\n",
       "    <tr>\n",
       "      <th>14</th>\n",
       "      <td>1994-01-01</td>\n",
       "      <td>0.002135</td>\n",
       "      <td>6.1</td>\n",
       "      <td>0.003</td>\n",
       "      <td>0.005</td>\n",
       "      <td>0.000</td>\n",
       "      <td>0.001</td>\n",
       "    </tr>\n",
       "  </tbody>\n",
       "</table>\n",
       "</div>"
      ],
      "text/plain": [
       "         Time  CPILFESL  UNRATE  COMPNFB  GDPDEF  ULCNFB  Unemployment Gap\n",
       "0  1980-01-01  0.009613     7.2    0.027   0.023   0.025             0.012\n",
       "1  1981-01-01  0.007627     7.6    0.020   0.021   0.020             0.016\n",
       "2  1982-01-01  0.003693     9.7    0.016   0.013   0.015             0.037\n",
       "3  1983-01-01  0.003861     9.6    0.009   0.008  -0.002             0.036\n",
       "4  1984-01-01  0.004004     7.5    0.011   0.009   0.007             0.015\n",
       "5  1985-01-01  0.003521     7.2    0.014   0.007   0.008             0.012\n",
       "6  1986-01-01  0.003089     7.0    0.013   0.005   0.007             0.010\n",
       "7  1987-01-01  0.003397     6.2    0.008   0.007   0.005             0.002\n",
       "8  1988-01-01  0.003796     5.5    0.012   0.010   0.010            -0.005\n",
       "9  1989-01-01  0.003631     5.3    0.008   0.009   0.005            -0.007\n",
       "10 1990-01-01  0.004329     5.6    0.015   0.010   0.013            -0.004\n",
       "11 1991-01-01  0.003596     6.9    0.013   0.008   0.004             0.009\n",
       "12 1992-01-01  0.002779     7.5    0.013   0.005   0.002             0.015\n",
       "13 1993-01-01  0.002582     6.9    0.002   0.006   0.004             0.009\n",
       "14 1994-01-01  0.002135     6.1    0.003   0.005   0.000             0.001"
      ]
     },
     "execution_count": 3,
     "metadata": {},
     "output_type": "execute_result"
    }
   ],
   "source": [
    "data = pd.read_excel('Phillips.xls')\n",
    "data"
   ]
  },
  {
   "cell_type": "code",
   "execution_count": 6,
   "metadata": {},
   "outputs": [
    {
     "data": {
      "text/plain": [
       "Text(0.5,1,'Unemployment and Total Compensation')"
      ]
     },
     "execution_count": 6,
     "metadata": {},
     "output_type": "execute_result"
    },
    {
     "data": {
      "image/png": "[encoded data removed]",
      "text/plain": [
       "<matplotlib.figure.Figure at 0x1176c6518>"
      ]
     },
     "metadata": {},
     "output_type": "display_data"
    }
   ],
   "source": [
    "plt.plot(data['Time'], data['Unemployment Gap']) \n",
    "plt.plot(data['Time'], data['COMPNFB']) \n",
    "plt.ylim(-0.06,0.06)\n",
    "plt.title('Unemployment and Total Compensation')"
   ]
  },
  {
   "cell_type": "code",
   "execution_count": 7,
   "metadata": {},
   "outputs": [
    {
     "data": {
      "text/plain": [
       "Text(0.5,1,'Unemployment and Core CPI')"
      ]
     },
     "execution_count": 7,
     "metadata": {},
     "output_type": "execute_result"
    },
    {
     "data": {
      "image/png": "[encoded data removed]",
      "text/plain": [
       "<matplotlib.figure.Figure at 0x117780fd0>"
      ]
     },
     "metadata": {},
     "output_type": "display_data"
    }
   ],
   "source": [
    "plt.plot(data['Time'], data['Unemployment Gap']) \n",
    "plt.plot(data['Time'], data['CPILFESL']) \n",
    "plt.ylim(-0.06,0.06)\n",
    "plt.title('Unemployment and Core CPI')"
   ]
  },
  {
   "cell_type": "code",
   "execution_count": 8,
   "metadata": {},
   "outputs": [
    {
     "data": {
      "text/plain": [
       "Text(0.5,1,'Unemployment and GDP Deflator')"
      ]
     },
     "execution_count": 8,
     "metadata": {},
     "output_type": "execute_result"
    },
    {
     "data": {
      "image/png": "[encoded data removed]",
      "text/plain": [
       "<matplotlib.figure.Figure at 0x117843b00>"
      ]
     },
     "metadata": {},
     "output_type": "display_data"
    }
   ],
   "source": [
    "plt.plot(data['Time'], data['Unemployment Gap']) \n",
    "plt.plot(data['Time'], data['GDPDEF']) \n",
    "plt.ylim(-0.06,0.06)\n",
    "plt.title('Unemployment and GDP Deflator')"
   ]
  },
  {
   "cell_type": "markdown",
   "metadata": {},
   "source": [
    "My charts don't match with the paper exactly, but the general shapes agree."
   ]
  },
  {
   "cell_type": "markdown",
   "metadata": {},
   "source": [
    "# Question 4: The author wants to make the point that the unemployment gap (positive when unemployment is higher that its natural level, negative when it is below its natural level) is approximately equal to the change in inflation rate but with opposite sign. Does figure 1 support that point? Does your reconstruction of figure 1 support that point?\n",
    "\n",
    "Figure 1 in the paper supports the point. My reconstruction partly supports the point since when unemployment gao increases, inflation rate decreases, but changes are not equal."
   ]
  },
  {
   "cell_type": "markdown",
   "metadata": {},
   "source": [
    "# Question 5: Now do the same three charts from 1995 to 2018. Do these charts support the author's point?"
   ]
  },
  {
   "cell_type": "code",
   "execution_count": 4,
   "metadata": {},
   "outputs": [
    {
     "data": {
      "text/plain": [
       "Text(0.5,1,'Unemployment and Total Compensation')"
      ]
     },
     "execution_count": 4,
     "metadata": {},
     "output_type": "execute_result"
    },
    {
     "data": {
      "image/png": "[encoded data removed]",
      "text/plain": [
       "<matplotlib.figure.Figure at 0x108e49eb8>"
      ]
     },
     "metadata": {},
     "output_type": "display_data"
    }
   ],
   "source": [
    "data2 = pd.read_excel('Phillips2.xls')\n",
    "plt.plot(data2['Time'], data2['Unemployment Gap']) \n",
    "plt.plot(data2['Time'], data2['COMPNFB']) \n",
    "plt.ylim(-0.06,0.06)\n",
    "plt.title('Unemployment and Total Compensation')"
   ]
  },
  {
   "cell_type": "code",
   "execution_count": 5,
   "metadata": {},
   "outputs": [
    {
     "data": {
      "text/plain": [
       "Text(0.5,1,'Unemployment and Core CPI')"
      ]
     },
     "execution_count": 5,
     "metadata": {},
     "output_type": "execute_result"
    },
    {
     "data": {
      "image/png": "[encoded data removed]",
      "text/plain": [
       "<matplotlib.figure.Figure at 0x108fb9ef0>"
      ]
     },
     "metadata": {},
     "output_type": "display_data"
    }
   ],
   "source": [
    "plt.plot(data2['Time'], data2['Unemployment Gap']) \n",
    "plt.plot(data2['Time'], data2['CPILFESL']) \n",
    "plt.ylim(-0.06,0.06)\n",
    "plt.title('Unemployment and Core CPI')"
   ]
  },
  {
   "cell_type": "code",
   "execution_count": 6,
   "metadata": {},
   "outputs": [
    {
     "data": {
      "text/plain": [
       "Text(0.5,1,'Unemployment and GDP Deflator')"
      ]
     },
     "execution_count": 6,
     "metadata": {},
     "output_type": "execute_result"
    },
    {
     "data": {
      "image/png": "[encoded data removed]",
      "text/plain": [
       "<matplotlib.figure.Figure at 0x10b464b38>"
      ]
     },
     "metadata": {},
     "output_type": "display_data"
    }
   ],
   "source": [
    "plt.plot(data2['Time'], data2['Unemployment Gap']) \n",
    "plt.plot(data2['Time'], data2['GDPDEF']) \n",
    "plt.ylim(-0.06,0.06)\n",
    "plt.title('Unemployment and GDP Deflator')"
   ]
  },
  {
   "cell_type": "markdown",
   "metadata": {},
   "source": [
    "Total compensation inflation rate agrees with the author's point; other two plots don't."
   ]
  },
  {
   "cell_type": "markdown",
   "metadata": {},
   "source": [
    "# Question 6: Next recreate the regression in table 1 of the paper. \n",
    "What do you think of this regression? Are the results reliable? What are they telling you? Do they support the author's contention that low unemployment leads to higher inflation? How about the contention that independent of the level of inflation, decreasing unemployment leads to higher inflation? Divide the constant term by the sum of the two unemployment coefficients. Is this a good way to estimate the “non-accelerating-inflation rate of unemployment” or NAIRU?"
   ]
  },
  {
   "cell_type": "code",
   "execution_count": 39,
   "metadata": {},
   "outputs": [
    {
     "data": {
      "text/html": [
       "<div>\n",
       "<style scoped>\n",
       "    .dataframe tbody tr th:only-of-type {\n",
       "        vertical-align: middle;\n",
       "    }\n",
       "\n",
       "    .dataframe tbody tr th {\n",
       "        vertical-align: top;\n",
       "    }\n",
       "\n",
       "    .dataframe thead th {\n",
       "        text-align: right;\n",
       "    }\n",
       "</style>\n",
       "<table border=\"1\" class=\"dataframe\">\n",
       "  <thead>\n",
       "    <tr style=\"text-align: right;\">\n",
       "      <th></th>\n",
       "      <th>DATE</th>\n",
       "      <th>CPILFESL</th>\n",
       "      <th>UNRATE</th>\n",
       "      <th>WTISPLC</th>\n",
       "      <th>DeltaP</th>\n",
       "      <th>Unrate</th>\n",
       "      <th>DeltaOil</th>\n",
       "    </tr>\n",
       "  </thead>\n",
       "  <tbody>\n",
       "    <tr>\n",
       "      <th>0</th>\n",
       "      <td>1960-01-01</td>\n",
       "      <td>30.5</td>\n",
       "      <td>5.2</td>\n",
       "      <td>2.97</td>\n",
       "      <td>0.0</td>\n",
       "      <td>0.052</td>\n",
       "      <td>0.0</td>\n",
       "    </tr>\n",
       "    <tr>\n",
       "      <th>1</th>\n",
       "      <td>1960-02-01</td>\n",
       "      <td>30.6</td>\n",
       "      <td>4.8</td>\n",
       "      <td>2.97</td>\n",
       "      <td>0.1</td>\n",
       "      <td>0.048</td>\n",
       "      <td>0.0</td>\n",
       "    </tr>\n",
       "    <tr>\n",
       "      <th>2</th>\n",
       "      <td>1960-03-01</td>\n",
       "      <td>30.6</td>\n",
       "      <td>5.4</td>\n",
       "      <td>2.97</td>\n",
       "      <td>0.0</td>\n",
       "      <td>0.054</td>\n",
       "      <td>0.0</td>\n",
       "    </tr>\n",
       "    <tr>\n",
       "      <th>3</th>\n",
       "      <td>1960-04-01</td>\n",
       "      <td>30.6</td>\n",
       "      <td>5.2</td>\n",
       "      <td>2.97</td>\n",
       "      <td>0.0</td>\n",
       "      <td>0.052</td>\n",
       "      <td>0.0</td>\n",
       "    </tr>\n",
       "    <tr>\n",
       "      <th>4</th>\n",
       "      <td>1960-05-01</td>\n",
       "      <td>30.6</td>\n",
       "      <td>5.1</td>\n",
       "      <td>2.97</td>\n",
       "      <td>0.0</td>\n",
       "      <td>0.051</td>\n",
       "      <td>0.0</td>\n",
       "    </tr>\n",
       "  </tbody>\n",
       "</table>\n",
       "</div>"
      ],
      "text/plain": [
       "        DATE  CPILFESL  UNRATE  WTISPLC  DeltaP  Unrate  DeltaOil\n",
       "0 1960-01-01      30.5     5.2     2.97     0.0   0.052       0.0\n",
       "1 1960-02-01      30.6     4.8     2.97     0.1   0.048       0.0\n",
       "2 1960-03-01      30.6     5.4     2.97     0.0   0.054       0.0\n",
       "3 1960-04-01      30.6     5.2     2.97     0.0   0.052       0.0\n",
       "4 1960-05-01      30.6     5.1     2.97     0.0   0.051       0.0"
      ]
     },
     "execution_count": 39,
     "metadata": {},
     "output_type": "execute_result"
    }
   ],
   "source": [
    "data3 = pd.read_excel('Phillips3.xls')\n",
    "data3.head()"
   ]
  },
  {
   "cell_type": "code",
   "execution_count": 123,
   "metadata": {},
   "outputs": [
    {
     "ename": "ValueError",
     "evalue": "Length mismatch: Expected axis has 16 elements, new values have 15 elements",
     "output_type": "error",
     "traceback": [
      "\u001b[0;31m---------------------------------------------------------------------------\u001b[0m",
      "\u001b[0;31mValueError\u001b[0m                                Traceback (most recent call last)",
      "\u001b[0;32m<ipython-input-123-2eb37a52a4dd>\u001b[0m in \u001b[0;36m<module>\u001b[0;34m()\u001b[0m\n\u001b[1;32m     18\u001b[0m \u001b[0mDependent_variable\u001b[0m\u001b[0;34m=\u001b[0m \u001b[0;34m[\u001b[0m\u001b[0;34m[\u001b[0m\u001b[0mPT\u001b[0m\u001b[0;34m,\u001b[0m\u001b[0mP1\u001b[0m\u001b[0;34m,\u001b[0m\u001b[0mP2\u001b[0m\u001b[0;34m,\u001b[0m\u001b[0mP3\u001b[0m\u001b[0;34m,\u001b[0m\u001b[0mP4\u001b[0m\u001b[0;34m,\u001b[0m\u001b[0mP5\u001b[0m\u001b[0;34m,\u001b[0m\u001b[0mP6\u001b[0m\u001b[0;34m,\u001b[0m\u001b[0mP7\u001b[0m\u001b[0;34m,\u001b[0m\u001b[0mP8\u001b[0m\u001b[0;34m,\u001b[0m\u001b[0mP9\u001b[0m\u001b[0;34m,\u001b[0m\u001b[0mP10\u001b[0m\u001b[0;34m,\u001b[0m\u001b[0mP11\u001b[0m\u001b[0;34m,\u001b[0m\u001b[0mP12\u001b[0m\u001b[0;34m,\u001b[0m\u001b[0mU1\u001b[0m\u001b[0;34m,\u001b[0m\u001b[0mU1\u001b[0m\u001b[0;34m,\u001b[0m\u001b[0mPO\u001b[0m\u001b[0;34m]\u001b[0m\u001b[0;34m]\u001b[0m\u001b[0;34m\u001b[0m\u001b[0m\n\u001b[1;32m     19\u001b[0m \u001b[0mDependent_variable\u001b[0m \u001b[0;34m=\u001b[0m \u001b[0mpd\u001b[0m\u001b[0;34m.\u001b[0m\u001b[0mDataFrame\u001b[0m\u001b[0;34m(\u001b[0m\u001b[0mDependent_variable\u001b[0m\u001b[0;34m)\u001b[0m\u001b[0;34m\u001b[0m\u001b[0m\n\u001b[0;32m---> 20\u001b[0;31m \u001b[0mDependent_variable\u001b[0m\u001b[0;34m.\u001b[0m\u001b[0mcolumns\u001b[0m \u001b[0;34m=\u001b[0m \u001b[0;34m[\u001b[0m\u001b[0;34m'PT'\u001b[0m\u001b[0;34m,\u001b[0m\u001b[0;34m'P1'\u001b[0m\u001b[0;34m,\u001b[0m \u001b[0;34m'P2'\u001b[0m\u001b[0;34m,\u001b[0m\u001b[0;34m'P3'\u001b[0m\u001b[0;34m,\u001b[0m\u001b[0;34m'P4'\u001b[0m\u001b[0;34m,\u001b[0m\u001b[0;34m'P5'\u001b[0m\u001b[0;34m,\u001b[0m\u001b[0;34m'P6'\u001b[0m\u001b[0;34m,\u001b[0m\u001b[0;34m'P7'\u001b[0m\u001b[0;34m,\u001b[0m\u001b[0;34m'P8'\u001b[0m\u001b[0;34m,\u001b[0m\u001b[0;34m'P9'\u001b[0m\u001b[0;34m,\u001b[0m\u001b[0;34m'P10'\u001b[0m\u001b[0;34m,\u001b[0m\u001b[0;34m'P11'\u001b[0m\u001b[0;34m,\u001b[0m\u001b[0;34m'P12'\u001b[0m\u001b[0;34m,\u001b[0m\u001b[0;34m'U1'\u001b[0m\u001b[0;34m,\u001b[0m\u001b[0;34m'U2'\u001b[0m\u001b[0;34m'PO'\u001b[0m\u001b[0;34m]\u001b[0m\u001b[0;34m\u001b[0m\u001b[0m\n\u001b[0m\u001b[1;32m     21\u001b[0m \u001b[0;34m\u001b[0m\u001b[0m\n\u001b[1;32m     22\u001b[0m \u001b[0mDependent_variable\u001b[0m \u001b[0;34m=\u001b[0m \u001b[0msm\u001b[0m\u001b[0;34m.\u001b[0m\u001b[0madd_constant\u001b[0m\u001b[0;34m(\u001b[0m\u001b[0mDependent_variable\u001b[0m\u001b[0;34m)\u001b[0m\u001b[0;34m\u001b[0m\u001b[0m\n",
      "\u001b[0;32m/anaconda3/lib/python3.6/site-packages/pandas/core/generic.py\u001b[0m in \u001b[0;36m__setattr__\u001b[0;34m(self, name, value)\u001b[0m\n\u001b[1;32m   3625\u001b[0m         \u001b[0;32mtry\u001b[0m\u001b[0;34m:\u001b[0m\u001b[0;34m\u001b[0m\u001b[0m\n\u001b[1;32m   3626\u001b[0m             \u001b[0mobject\u001b[0m\u001b[0;34m.\u001b[0m\u001b[0m__getattribute__\u001b[0m\u001b[0;34m(\u001b[0m\u001b[0mself\u001b[0m\u001b[0;34m,\u001b[0m \u001b[0mname\u001b[0m\u001b[0;34m)\u001b[0m\u001b[0;34m\u001b[0m\u001b[0m\n\u001b[0;32m-> 3627\u001b[0;31m             \u001b[0;32mreturn\u001b[0m \u001b[0mobject\u001b[0m\u001b[0;34m.\u001b[0m\u001b[0m__setattr__\u001b[0m\u001b[0;34m(\u001b[0m\u001b[0mself\u001b[0m\u001b[0;34m,\u001b[0m \u001b[0mname\u001b[0m\u001b[0;34m,\u001b[0m \u001b[0mvalue\u001b[0m\u001b[0;34m)\u001b[0m\u001b[0;34m\u001b[0m\u001b[0m\n\u001b[0m\u001b[1;32m   3628\u001b[0m         \u001b[0;32mexcept\u001b[0m \u001b[0mAttributeError\u001b[0m\u001b[0;34m:\u001b[0m\u001b[0;34m\u001b[0m\u001b[0m\n\u001b[1;32m   3629\u001b[0m             \u001b[0;32mpass\u001b[0m\u001b[0;34m\u001b[0m\u001b[0m\n",
      "\u001b[0;32mpandas/_libs/properties.pyx\u001b[0m in \u001b[0;36mpandas._libs.properties.AxisProperty.__set__\u001b[0;34m()\u001b[0m\n",
      "\u001b[0;32m/anaconda3/lib/python3.6/site-packages/pandas/core/generic.py\u001b[0m in \u001b[0;36m_set_axis\u001b[0;34m(self, axis, labels)\u001b[0m\n\u001b[1;32m    557\u001b[0m \u001b[0;34m\u001b[0m\u001b[0m\n\u001b[1;32m    558\u001b[0m     \u001b[0;32mdef\u001b[0m \u001b[0m_set_axis\u001b[0m\u001b[0;34m(\u001b[0m\u001b[0mself\u001b[0m\u001b[0;34m,\u001b[0m \u001b[0maxis\u001b[0m\u001b[0;34m,\u001b[0m \u001b[0mlabels\u001b[0m\u001b[0;34m)\u001b[0m\u001b[0;34m:\u001b[0m\u001b[0;34m\u001b[0m\u001b[0m\n\u001b[0;32m--> 559\u001b[0;31m         \u001b[0mself\u001b[0m\u001b[0;34m.\u001b[0m\u001b[0m_data\u001b[0m\u001b[0;34m.\u001b[0m\u001b[0mset_axis\u001b[0m\u001b[0;34m(\u001b[0m\u001b[0maxis\u001b[0m\u001b[0;34m,\u001b[0m \u001b[0mlabels\u001b[0m\u001b[0;34m)\u001b[0m\u001b[0;34m\u001b[0m\u001b[0m\n\u001b[0m\u001b[1;32m    560\u001b[0m         \u001b[0mself\u001b[0m\u001b[0;34m.\u001b[0m\u001b[0m_clear_item_cache\u001b[0m\u001b[0;34m(\u001b[0m\u001b[0;34m)\u001b[0m\u001b[0;34m\u001b[0m\u001b[0m\n\u001b[1;32m    561\u001b[0m \u001b[0;34m\u001b[0m\u001b[0m\n",
      "\u001b[0;32m/anaconda3/lib/python3.6/site-packages/pandas/core/internals.py\u001b[0m in \u001b[0;36mset_axis\u001b[0;34m(self, axis, new_labels)\u001b[0m\n\u001b[1;32m   3072\u001b[0m             raise ValueError('Length mismatch: Expected axis has %d elements, '\n\u001b[1;32m   3073\u001b[0m                              \u001b[0;34m'new values have %d elements'\u001b[0m \u001b[0;34m%\u001b[0m\u001b[0;34m\u001b[0m\u001b[0m\n\u001b[0;32m-> 3074\u001b[0;31m                              (old_len, new_len))\n\u001b[0m\u001b[1;32m   3075\u001b[0m \u001b[0;34m\u001b[0m\u001b[0m\n\u001b[1;32m   3076\u001b[0m         \u001b[0mself\u001b[0m\u001b[0;34m.\u001b[0m\u001b[0maxes\u001b[0m\u001b[0;34m[\u001b[0m\u001b[0maxis\u001b[0m\u001b[0;34m]\u001b[0m \u001b[0;34m=\u001b[0m \u001b[0mnew_labels\u001b[0m\u001b[0;34m\u001b[0m\u001b[0m\n",
      "\u001b[0;31mValueError\u001b[0m: Length mismatch: Expected axis has 16 elements, new values have 15 elements"
     ]
    }
   ],
   "source": [
    "#build regression model \n",
    "PT = data3[\"CPILFESL\"][12:408]\n",
    "P1 = data3[\"CPILFESL\"][11:407]\n",
    "P2 = data3[\"CPILFESL\"][10:406]\n",
    "P3 = data3[\"CPILFESL\"][9:405]\n",
    "P4 = data3[\"CPILFESL\"][8:404]\n",
    "P5 = data3[\"CPILFESL\"][7:403]\n",
    "P6 = data3[\"CPILFESL\"][6:402]\n",
    "P7 = data3[\"CPILFESL\"][5:401]\n",
    "P8 = data3[\"CPILFESL\"][4:400]\n",
    "P9 = data3[\"CPILFESL\"][3:399]\n",
    "P10 = data3[\"CPILFESL\"][2:398]\n",
    "P11 = data3[\"CPILFESL\"][1:397]\n",
    "P12 = data3[\"CPILFESL\"][0:396]\n",
    "U1 = data3[\"UNRATE\"][11:407]\n",
    "U2 = data3[\"UNRATE\"][10:406]\n",
    "PO = data3[\"DeltaOil\"][12:408]\n",
    "Dependent_variable= [[PT,P1,P2,P3,P4,P5,P6,P7,P8,P9,P10,P11,P12,U1,U1,PO]]\n",
    "Dependent_variable = pd.DataFrame(Dependent_variable)\n",
    "Dependent_variable.columns = ['PT','P1', 'P2','P3','P4','P5','P6','P7','P8','P9','P10','P11','P12','U1','U2''PO']\n",
    "\n",
    "Dependent_variable = sm.add_constant(Dependent_variable)\n",
    "X=['P1', 'P2','P3','P4','P5','P6','P7','P8','P9','P10','P11','P12','U1','U2''PO']\n",
    "reg = sm.OLS(endog=Dependent_variable['PT'], exog=Dependent_variable[X]).fit()\n",
    "\n",
    "#xvars = [\"const\", \"t1\",\"t2\",\"t3\",\"t4\",\"t5\",\"t6\",\"t7\",\"t8\",\"t9\",\"t10\",\"t11\",\"t12\",\"unrate1\",\"unrate2\",\"d_oil_price_rate\"]\n",
    "#reg1 = sm.OLS(endog=regression_data1['t0'], exog=regression_data1[xvars]).fit()\n",
    "#data3\n"
   ]
  },
  {
   "cell_type": "code",
   "execution_count": null,
   "metadata": {},
   "outputs": [],
   "source": []
  }
 ],
 "metadata": {
  "kernelspec": {
   "display_name": "Python 3",
   "language": "python",
   "name": "python3"
  },
  "language_info": {
   "codemirror_mode": {
    "name": "ipython",
    "version": 3
   },
   "file_extension": ".py",
   "mimetype": "text/x-python",
   "name": "python",
   "nbconvert_exporter": "python",
   "pygments_lexer": "ipython3",
   "version": "3.6.4"
  }
 },
 "nbformat": 4,
 "nbformat_minor": 2
}
