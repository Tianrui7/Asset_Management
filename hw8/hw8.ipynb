{
 "cells": [
  {
   "cell_type": "code",
   "execution_count": 29,
   "metadata": {},
   "outputs": [],
   "source": [
    "import numpy as np\n",
    "import scipy\n",
    "import pandas as pd\n",
    "import matplotlib.pyplot as plt\n",
    "import math\n",
    "#import statsmodels\n",
    "import statsmodels.api as sm"
   ]
  },
  {
   "cell_type": "code",
   "execution_count": 30,
   "metadata": {},
   "outputs": [
    {
     "data": {
      "text/html": [
       "<div>\n",
       "<style scoped>\n",
       "    .dataframe tbody tr th:only-of-type {\n",
       "        vertical-align: middle;\n",
       "    }\n",
       "\n",
       "    .dataframe tbody tr th {\n",
       "        vertical-align: top;\n",
       "    }\n",
       "\n",
       "    .dataframe thead th {\n",
       "        text-align: right;\n",
       "    }\n",
       "</style>\n",
       "<table border=\"1\" class=\"dataframe\">\n",
       "  <thead>\n",
       "    <tr style=\"text-align: right;\">\n",
       "      <th></th>\n",
       "      <th>Month</th>\n",
       "      <th>S&amp;P500</th>\n",
       "      <th>Dividends</th>\n",
       "      <th>Earnings</th>\n",
       "      <th>CPI</th>\n",
       "      <th>10-year rate</th>\n",
       "      <th>Gold</th>\n",
       "      <th>President age</th>\n",
       "      <th>Temperature</th>\n",
       "    </tr>\n",
       "  </thead>\n",
       "  <tbody>\n",
       "    <tr>\n",
       "      <th>0</th>\n",
       "      <td>01/1880</td>\n",
       "      <td>5.11</td>\n",
       "      <td>0.02</td>\n",
       "      <td>0.03</td>\n",
       "      <td>9.99</td>\n",
       "      <td>0.0402</td>\n",
       "      <td>20.67</td>\n",
       "      <td>687</td>\n",
       "      <td>-0.29</td>\n",
       "    </tr>\n",
       "    <tr>\n",
       "      <th>1</th>\n",
       "      <td>02/1880</td>\n",
       "      <td>5.20</td>\n",
       "      <td>0.02</td>\n",
       "      <td>0.03</td>\n",
       "      <td>9.99</td>\n",
       "      <td>0.0399</td>\n",
       "      <td>20.67</td>\n",
       "      <td>688</td>\n",
       "      <td>-0.18</td>\n",
       "    </tr>\n",
       "    <tr>\n",
       "      <th>2</th>\n",
       "      <td>03/1880</td>\n",
       "      <td>5.30</td>\n",
       "      <td>0.02</td>\n",
       "      <td>0.03</td>\n",
       "      <td>10.09</td>\n",
       "      <td>0.0397</td>\n",
       "      <td>20.67</td>\n",
       "      <td>689</td>\n",
       "      <td>-0.11</td>\n",
       "    </tr>\n",
       "    <tr>\n",
       "      <th>3</th>\n",
       "      <td>04/1880</td>\n",
       "      <td>5.18</td>\n",
       "      <td>0.02</td>\n",
       "      <td>0.03</td>\n",
       "      <td>9.70</td>\n",
       "      <td>0.0394</td>\n",
       "      <td>20.67</td>\n",
       "      <td>690</td>\n",
       "      <td>-0.19</td>\n",
       "    </tr>\n",
       "    <tr>\n",
       "      <th>4</th>\n",
       "      <td>05/1880</td>\n",
       "      <td>4.77</td>\n",
       "      <td>0.02</td>\n",
       "      <td>0.04</td>\n",
       "      <td>9.42</td>\n",
       "      <td>0.0391</td>\n",
       "      <td>20.67</td>\n",
       "      <td>691</td>\n",
       "      <td>-0.11</td>\n",
       "    </tr>\n",
       "  </tbody>\n",
       "</table>\n",
       "</div>"
      ],
      "text/plain": [
       "     Month  S&P500  Dividends  Earnings    CPI  10-year rate   Gold  \\\n",
       "0  01/1880    5.11       0.02      0.03   9.99        0.0402  20.67   \n",
       "1  02/1880    5.20       0.02      0.03   9.99        0.0399  20.67   \n",
       "2  03/1880    5.30       0.02      0.03  10.09        0.0397  20.67   \n",
       "3  04/1880    5.18       0.02      0.03   9.70        0.0394  20.67   \n",
       "4  05/1880    4.77       0.02      0.04   9.42        0.0391  20.67   \n",
       "\n",
       "   President age  Temperature  \n",
       "0            687        -0.29  \n",
       "1            688        -0.18  \n",
       "2            689        -0.11  \n",
       "3            690        -0.19  \n",
       "4            691        -0.11  "
      ]
     },
     "execution_count": 30,
     "metadata": {},
     "output_type": "execute_result"
    }
   ],
   "source": [
    "data = pd.read_excel('NYU_Spring_2019_Assignment_8_data.xls')\n",
    "data.head()"
   ]
  },
  {
   "cell_type": "markdown",
   "metadata": {},
   "source": [
    "# Question 1: Transform the series as follows. Think about why these are (or perhaps are not) reasonable transformations, and what assumptions about the data might justify them.\n",
    "\n",
    "(1) Take the natural logarithm of the S&P500 price\n",
    "(2) Compute the dividend yield as dividend divided by price\n",
    "(3) Take the natural logarithm of earnings\n",
    "(4) Take the natural logarithm of CPI\n",
    "(5) Leave the 10-year rate untransformed\n",
    "(6) Take the natural logarithm of the price of gold\n",
    "(7) Accumulate the President's age, that is each month take the previous month's value (start at zero) and add the current month's value"
   ]
  },
  {
   "cell_type": "code",
   "execution_count": 45,
   "metadata": {
    "scrolled": true
   },
   "outputs": [
    {
     "name": "stderr",
     "output_type": "stream",
     "text": [
      "/anaconda3/lib/python3.6/site-packages/ipykernel_launcher.py:12: SettingWithCopyWarning: \n",
      "A value is trying to be set on a copy of a slice from a DataFrame\n",
      "\n",
      "See the caveats in the documentation: http://pandas.pydata.org/pandas-docs/stable/indexing.html#indexing-view-versus-copy\n",
      "  if sys.path[0] == '':\n"
     ]
    },
    {
     "data": {
      "text/html": [
       "<div>\n",
       "<style scoped>\n",
       "    .dataframe tbody tr th:only-of-type {\n",
       "        vertical-align: middle;\n",
       "    }\n",
       "\n",
       "    .dataframe tbody tr th {\n",
       "        vertical-align: top;\n",
       "    }\n",
       "\n",
       "    .dataframe thead th {\n",
       "        text-align: right;\n",
       "    }\n",
       "</style>\n",
       "<table border=\"1\" class=\"dataframe\">\n",
       "  <thead>\n",
       "    <tr style=\"text-align: right;\">\n",
       "      <th></th>\n",
       "      <th>Month</th>\n",
       "      <th>log_S&amp;P</th>\n",
       "      <th>Dividend_yield</th>\n",
       "      <th>log_earning</th>\n",
       "      <th>log_CPI</th>\n",
       "      <th>log_gold</th>\n",
       "      <th>10-year rate</th>\n",
       "      <th>Temperature</th>\n",
       "      <th>Accumulate_president</th>\n",
       "    </tr>\n",
       "  </thead>\n",
       "  <tbody>\n",
       "    <tr>\n",
       "      <th>0</th>\n",
       "      <td>01/1880</td>\n",
       "      <td>1.631199</td>\n",
       "      <td>0.003914</td>\n",
       "      <td>-3.506558</td>\n",
       "      <td>2.301585</td>\n",
       "      <td>3.028683</td>\n",
       "      <td>0.0402</td>\n",
       "      <td>-0.29</td>\n",
       "      <td>687</td>\n",
       "    </tr>\n",
       "    <tr>\n",
       "      <th>1</th>\n",
       "      <td>02/1880</td>\n",
       "      <td>1.648659</td>\n",
       "      <td>0.003846</td>\n",
       "      <td>-3.506558</td>\n",
       "      <td>2.301585</td>\n",
       "      <td>3.028683</td>\n",
       "      <td>0.0399</td>\n",
       "      <td>-0.18</td>\n",
       "      <td>1375</td>\n",
       "    </tr>\n",
       "    <tr>\n",
       "      <th>2</th>\n",
       "      <td>03/1880</td>\n",
       "      <td>1.667707</td>\n",
       "      <td>0.003774</td>\n",
       "      <td>-3.506558</td>\n",
       "      <td>2.311545</td>\n",
       "      <td>3.028683</td>\n",
       "      <td>0.0397</td>\n",
       "      <td>-0.11</td>\n",
       "      <td>2064</td>\n",
       "    </tr>\n",
       "    <tr>\n",
       "      <th>3</th>\n",
       "      <td>04/1880</td>\n",
       "      <td>1.644805</td>\n",
       "      <td>0.003861</td>\n",
       "      <td>-3.506558</td>\n",
       "      <td>2.272126</td>\n",
       "      <td>3.028683</td>\n",
       "      <td>0.0394</td>\n",
       "      <td>-0.19</td>\n",
       "      <td>2754</td>\n",
       "    </tr>\n",
       "    <tr>\n",
       "      <th>4</th>\n",
       "      <td>05/1880</td>\n",
       "      <td>1.562346</td>\n",
       "      <td>0.004193</td>\n",
       "      <td>-3.218876</td>\n",
       "      <td>2.242835</td>\n",
       "      <td>3.028683</td>\n",
       "      <td>0.0391</td>\n",
       "      <td>-0.11</td>\n",
       "      <td>3445</td>\n",
       "    </tr>\n",
       "  </tbody>\n",
       "</table>\n",
       "</div>"
      ],
      "text/plain": [
       "     Month   log_S&P  Dividend_yield  log_earning   log_CPI  log_gold  \\\n",
       "0  01/1880  1.631199        0.003914    -3.506558  2.301585  3.028683   \n",
       "1  02/1880  1.648659        0.003846    -3.506558  2.301585  3.028683   \n",
       "2  03/1880  1.667707        0.003774    -3.506558  2.311545  3.028683   \n",
       "3  04/1880  1.644805        0.003861    -3.506558  2.272126  3.028683   \n",
       "4  05/1880  1.562346        0.004193    -3.218876  2.242835  3.028683   \n",
       "\n",
       "   10-year rate  Temperature  Accumulate_president  \n",
       "0        0.0402        -0.29                   687  \n",
       "1        0.0399        -0.18                  1375  \n",
       "2        0.0397        -0.11                  2064  \n",
       "3        0.0394        -0.19                  2754  \n",
       "4        0.0391        -0.11                  3445  "
      ]
     },
     "execution_count": 45,
     "metadata": {},
     "output_type": "execute_result"
    }
   ],
   "source": [
    "transform_data = pd.DataFrame(data[\"Month\"])\n",
    "\n",
    "transform_data[\"log_S&P\"] = np.log(data[\"S&P500\"])\n",
    "transform_data[\"Dividend_yield\"] = data[\"Dividends\"]/data[\"S&P500\"]\n",
    "transform_data[\"log_earning\"] = np.log(data[\"Earnings\"])\n",
    "transform_data[\"log_CPI\"] = np.log(data[\"CPI\"])\n",
    "transform_data[\"log_gold\"] = np.log(data[\"Gold\"])\n",
    "transform_data[\"10-year rate\"] = (data[\"10-year rate\"])\n",
    "transform_data[\"Temperature\"] = (data[\"Temperature\"])\n",
    "transform_data[\"Accumulate_president\"] = data[\"President age\"]\n",
    "for i in range (len(transform_data)):\n",
    "    transform_data[\"Accumulate_president\"][i] = sum(data[\"President age\"][0:i+1])\n",
    "transform_data.head()"
   ]
  },
  {
   "cell_type": "markdown",
   "metadata": {},
   "source": [
    "# Question 2: Graph each of the transformed series and look at the partial autocorrelations out to lag 32. Comment briefly on features you see in the graphs, and how these relate to the partial autocorrelations. \n",
    "Question: What is partial autocorrelation? "
   ]
  },
  {
   "cell_type": "code",
   "execution_count": 39,
   "metadata": {},
   "outputs": [
    {
     "data": {
      "text/plain": [
       "Text(0.5,1,'Log S&P')"
      ]
     },
     "execution_count": 39,
     "metadata": {},
     "output_type": "execute_result"
    },
    {
     "data": {
      "image/png": "[encoded data removed]",
      "text/plain": [
       "<matplotlib.figure.Figure at 0x1c12cfe160>"
      ]
     },
     "metadata": {},
     "output_type": "display_data"
    }
   ],
   "source": [
    "plt.plot(transform_data['Month'], transform_data['log_S&P']) \n",
    "plt.title('Log S&P')"
   ]
  },
  {
   "cell_type": "code",
   "execution_count": 40,
   "metadata": {},
   "outputs": [
    {
     "data": {
      "text/plain": [
       "Text(0.5,1,'Dividend_yield')"
      ]
     },
     "execution_count": 40,
     "metadata": {},
     "output_type": "execute_result"
    },
    {
     "data": {
      "image/png": "[encoded data removed]",
      "text/plain": [
       "<matplotlib.figure.Figure at 0x1c27d37470>"
      ]
     },
     "metadata": {},
     "output_type": "display_data"
    }
   ],
   "source": [
    "plt.plot(transform_data['Month'], transform_data['Dividend_yield']) \n",
    "plt.title('Dividend_yield')"
   ]
  },
  {
   "cell_type": "code",
   "execution_count": 41,
   "metadata": {},
   "outputs": [
    {
     "data": {
      "text/plain": [
       "Text(0.5,1,'Log Earnings')"
      ]
     },
     "execution_count": 41,
     "metadata": {},
     "output_type": "execute_result"
    },
    {
     "data": {
      "image/png": "[encoded data removed]",
      "text/plain": [
       "<matplotlib.figure.Figure at 0x1c2906ee10>"
      ]
     },
     "metadata": {},
     "output_type": "display_data"
    }
   ],
   "source": [
    "plt.plot(transform_data['Month'], transform_data['log_earning']) \n",
    "plt.title('Log Earnings')"
   ]
  },
  {
   "cell_type": "code",
   "execution_count": 42,
   "metadata": {},
   "outputs": [
    {
     "data": {
      "text/plain": [
       "Text(0.5,1,'Log CPI')"
      ]
     },
     "execution_count": 42,
     "metadata": {},
     "output_type": "execute_result"
    },
    {
     "data": {
      "image/png": "[encoded data removed]",
      "text/plain": [
       "<matplotlib.figure.Figure at 0x1c28f85240>"
      ]
     },
     "metadata": {},
     "output_type": "display_data"
    }
   ],
   "source": [
    "plt.plot(transform_data['Month'], transform_data['log_CPI']) \n",
    "plt.title('Log CPI')"
   ]
  },
  {
   "cell_type": "code",
   "execution_count": 43,
   "metadata": {},
   "outputs": [
    {
     "data": {
      "text/plain": [
       "Text(0.5,1,'Log Gold')"
      ]
     },
     "execution_count": 43,
     "metadata": {},
     "output_type": "execute_result"
    },
    {
     "data": {
      "image/png": "[encoded data removed]",
      "text/plain": [
       "<matplotlib.figure.Figure at 0x1c2b594c50>"
      ]
     },
     "metadata": {},
     "output_type": "display_data"
    }
   ],
   "source": [
    "plt.plot(transform_data['Month'], transform_data['log_gold']) \n",
    "plt.title('Log Gold')"
   ]
  },
  {
   "cell_type": "code",
   "execution_count": 44,
   "metadata": {},
   "outputs": [
    {
     "data": {
      "text/plain": [
       "Text(0.5,1,'President Age')"
      ]
     },
     "execution_count": 44,
     "metadata": {},
     "output_type": "execute_result"
    },
    {
     "data": {
      "image/png": "[encoded data removed]",
      "text/plain": [
       "<matplotlib.figure.Figure at 0x1c2c90ec18>"
      ]
     },
     "metadata": {},
     "output_type": "display_data"
    }
   ],
   "source": [
    "plt.plot(transform_data['Month'], transform_data['Accumulate_president']) \n",
    "plt.title('President Age')"
   ]
  },
  {
   "cell_type": "markdown",
   "metadata": {},
   "source": [
    "Log S&P price goes up with CPI, which means that the intrinsic value of stock has not change."
   ]
  },
  {
   "cell_type": "markdown",
   "metadata": {},
   "source": [
    "# Question 3: Compute the correlation matrix for the eight series. Comment on it briefly."
   ]
  },
  {
   "cell_type": "code",
   "execution_count": 46,
   "metadata": {},
   "outputs": [
    {
     "data": {
      "text/html": [
       "<div>\n",
       "<style scoped>\n",
       "    .dataframe tbody tr th:only-of-type {\n",
       "        vertical-align: middle;\n",
       "    }\n",
       "\n",
       "    .dataframe tbody tr th {\n",
       "        vertical-align: top;\n",
       "    }\n",
       "\n",
       "    .dataframe thead th {\n",
       "        text-align: right;\n",
       "    }\n",
       "</style>\n",
       "<table border=\"1\" class=\"dataframe\">\n",
       "  <thead>\n",
       "    <tr style=\"text-align: right;\">\n",
       "      <th></th>\n",
       "      <th>0</th>\n",
       "      <th>1</th>\n",
       "      <th>2</th>\n",
       "      <th>3</th>\n",
       "      <th>4</th>\n",
       "      <th>5</th>\n",
       "      <th>6</th>\n",
       "      <th>7</th>\n",
       "    </tr>\n",
       "  </thead>\n",
       "  <tbody>\n",
       "    <tr>\n",
       "      <th>0</th>\n",
       "      <td>3.886705</td>\n",
       "      <td>-0.002181</td>\n",
       "      <td>3.550684</td>\n",
       "      <td>2.268626</td>\n",
       "      <td>0.015062</td>\n",
       "      <td>2.582568</td>\n",
       "      <td>6.418455e+05</td>\n",
       "      <td>0.603115</td>\n",
       "    </tr>\n",
       "    <tr>\n",
       "      <th>1</th>\n",
       "      <td>-0.002181</td>\n",
       "      <td>0.000002</td>\n",
       "      <td>-0.001821</td>\n",
       "      <td>-0.001129</td>\n",
       "      <td>-0.000004</td>\n",
       "      <td>-0.001275</td>\n",
       "      <td>-3.182640e+02</td>\n",
       "      <td>-0.000316</td>\n",
       "    </tr>\n",
       "    <tr>\n",
       "      <th>2</th>\n",
       "      <td>3.550684</td>\n",
       "      <td>-0.001821</td>\n",
       "      <td>3.364429</td>\n",
       "      <td>2.117398</td>\n",
       "      <td>0.016490</td>\n",
       "      <td>2.411197</td>\n",
       "      <td>6.017107e+05</td>\n",
       "      <td>0.548610</td>\n",
       "    </tr>\n",
       "    <tr>\n",
       "      <th>3</th>\n",
       "      <td>2.268626</td>\n",
       "      <td>-0.001129</td>\n",
       "      <td>2.117398</td>\n",
       "      <td>1.383453</td>\n",
       "      <td>0.011188</td>\n",
       "      <td>1.577196</td>\n",
       "      <td>3.874644e+05</td>\n",
       "      <td>0.359341</td>\n",
       "    </tr>\n",
       "    <tr>\n",
       "      <th>4</th>\n",
       "      <td>0.015062</td>\n",
       "      <td>-0.000004</td>\n",
       "      <td>0.016490</td>\n",
       "      <td>0.011188</td>\n",
       "      <td>0.000554</td>\n",
       "      <td>0.013164</td>\n",
       "      <td>2.888136e+03</td>\n",
       "      <td>0.001490</td>\n",
       "    </tr>\n",
       "    <tr>\n",
       "      <th>5</th>\n",
       "      <td>2.582568</td>\n",
       "      <td>-0.001275</td>\n",
       "      <td>2.411197</td>\n",
       "      <td>1.577196</td>\n",
       "      <td>0.013164</td>\n",
       "      <td>1.989590</td>\n",
       "      <td>4.313459e+05</td>\n",
       "      <td>0.433655</td>\n",
       "    </tr>\n",
       "    <tr>\n",
       "      <th>6</th>\n",
       "      <td>641845.528870</td>\n",
       "      <td>-318.264028</td>\n",
       "      <td>601710.724741</td>\n",
       "      <td>387464.397921</td>\n",
       "      <td>2888.135899</td>\n",
       "      <td>431345.911537</td>\n",
       "      <td>1.150764e+11</td>\n",
       "      <td>100272.570918</td>\n",
       "    </tr>\n",
       "    <tr>\n",
       "      <th>7</th>\n",
       "      <td>0.603115</td>\n",
       "      <td>-0.000316</td>\n",
       "      <td>0.548610</td>\n",
       "      <td>0.359341</td>\n",
       "      <td>0.001490</td>\n",
       "      <td>0.433655</td>\n",
       "      <td>1.002726e+05</td>\n",
       "      <td>0.125475</td>\n",
       "    </tr>\n",
       "  </tbody>\n",
       "</table>\n",
       "</div>"
      ],
      "text/plain": [
       "               0           1              2              3            4  \\\n",
       "0       3.886705   -0.002181       3.550684       2.268626     0.015062   \n",
       "1      -0.002181    0.000002      -0.001821      -0.001129    -0.000004   \n",
       "2       3.550684   -0.001821       3.364429       2.117398     0.016490   \n",
       "3       2.268626   -0.001129       2.117398       1.383453     0.011188   \n",
       "4       0.015062   -0.000004       0.016490       0.011188     0.000554   \n",
       "5       2.582568   -0.001275       2.411197       1.577196     0.013164   \n",
       "6  641845.528870 -318.264028  601710.724741  387464.397921  2888.135899   \n",
       "7       0.603115   -0.000316       0.548610       0.359341     0.001490   \n",
       "\n",
       "               5             6              7  \n",
       "0       2.582568  6.418455e+05       0.603115  \n",
       "1      -0.001275 -3.182640e+02      -0.000316  \n",
       "2       2.411197  6.017107e+05       0.548610  \n",
       "3       1.577196  3.874644e+05       0.359341  \n",
       "4       0.013164  2.888136e+03       0.001490  \n",
       "5       1.989590  4.313459e+05       0.433655  \n",
       "6  431345.911537  1.150764e+11  100272.570918  \n",
       "7       0.433655  1.002726e+05       0.125475  "
      ]
     },
     "execution_count": 46,
     "metadata": {},
     "output_type": "execute_result"
    }
   ],
   "source": [
    "new_data = np.array(transform_data[[\"log_S&P\",\"Dividend_yield\",\"log_earning\", \"log_CPI\", \"10-year rate\",\"log_gold\",\"Accumulate_president\",\"Temperature\"]].values)\n",
    "cov_mat = np.cov(new_data, rowvar = False)\n",
    "pd.DataFrame(cov_mat)"
   ]
  },
  {
   "cell_type": "markdown",
   "metadata": {},
   "source": [
    "# Question 4: Regress the month t S&P500 price on all eight variables from month t-1. Comment briefly on the results. Look at the t-statistics of the coefficients, including the constant term, and also consider the economic significance of the size of the coefficients. What do standard regression diagnostics say about the quality of the fit?"
   ]
  },
  {
   "cell_type": "code",
   "execution_count": 49,
   "metadata": {},
   "outputs": [
    {
     "data": {
      "text/html": [
       "<table class=\"simpletable\">\n",
       "<caption>OLS Regression Results</caption>\n",
       "<tr>\n",
       "  <th>Dep. Variable:</th>         <td>log_S&P</td>     <th>  R-squared:         </th> <td>   0.990</td> \n",
       "</tr>\n",
       "<tr>\n",
       "  <th>Model:</th>                   <td>OLS</td>       <th>  Adj. R-squared:    </th> <td>   0.990</td> \n",
       "</tr>\n",
       "<tr>\n",
       "  <th>Method:</th>             <td>Least Squares</td>  <th>  F-statistic:       </th> <td>2.301e+04</td>\n",
       "</tr>\n",
       "<tr>\n",
       "  <th>Date:</th>             <td>Wed, 17 Apr 2019</td> <th>  Prob (F-statistic):</th>  <td>  0.00</td>  \n",
       "</tr>\n",
       "<tr>\n",
       "  <th>Time:</th>                 <td>15:56:43</td>     <th>  Log-Likelihood:    </th> <td>  325.32</td> \n",
       "</tr>\n",
       "<tr>\n",
       "  <th>No. Observations:</th>      <td>  1669</td>      <th>  AIC:               </th> <td>  -634.6</td> \n",
       "</tr>\n",
       "<tr>\n",
       "  <th>Df Residuals:</th>          <td>  1661</td>      <th>  BIC:               </th> <td>  -591.3</td> \n",
       "</tr>\n",
       "<tr>\n",
       "  <th>Df Model:</th>              <td>     7</td>      <th>                     </th>     <td> </td>    \n",
       "</tr>\n",
       "<tr>\n",
       "  <th>Covariance Type:</th>      <td>nonrobust</td>    <th>                     </th>     <td> </td>    \n",
       "</tr>\n",
       "</table>\n",
       "<table class=\"simpletable\">\n",
       "<tr>\n",
       "            <td></td>              <th>coef</th>     <th>std err</th>      <th>t</th>      <th>P>|t|</th>  <th>[0.025</th>    <th>0.975]</th>  \n",
       "</tr>\n",
       "<tr>\n",
       "  <th>Dividend_yield</th>       <td> -242.2885</td> <td>    4.922</td> <td>  -49.225</td> <td> 0.000</td> <td> -251.943</td> <td> -232.634</td>\n",
       "</tr>\n",
       "<tr>\n",
       "  <th>log_earning</th>          <td>    0.4146</td> <td>    0.015</td> <td>   27.258</td> <td> 0.000</td> <td>    0.385</td> <td>    0.444</td>\n",
       "</tr>\n",
       "<tr>\n",
       "  <th>log_CPI</th>              <td>    0.7235</td> <td>    0.031</td> <td>   23.686</td> <td> 0.000</td> <td>    0.664</td> <td>    0.783</td>\n",
       "</tr>\n",
       "<tr>\n",
       "  <th>10-year rate</th>         <td>   -3.4408</td> <td>    0.254</td> <td>  -13.553</td> <td> 0.000</td> <td>   -3.939</td> <td>   -2.943</td>\n",
       "</tr>\n",
       "<tr>\n",
       "  <th>log_gold</th>             <td>    0.0092</td> <td>    0.012</td> <td>    0.734</td> <td> 0.463</td> <td>   -0.015</td> <td>    0.034</td>\n",
       "</tr>\n",
       "<tr>\n",
       "  <th>Accumulate_president</th> <td> 2.607e-07</td> <td> 6.72e-08</td> <td>    3.877</td> <td> 0.000</td> <td> 1.29e-07</td> <td> 3.93e-07</td>\n",
       "</tr>\n",
       "<tr>\n",
       "  <th>Temperature</th>          <td>    0.1149</td> <td>    0.031</td> <td>    3.661</td> <td> 0.000</td> <td>    0.053</td> <td>    0.176</td>\n",
       "</tr>\n",
       "<tr>\n",
       "  <th>const</th>                <td>    2.7313</td> <td>    0.099</td> <td>   27.640</td> <td> 0.000</td> <td>    2.537</td> <td>    2.925</td>\n",
       "</tr>\n",
       "</table>\n",
       "<table class=\"simpletable\">\n",
       "<tr>\n",
       "  <th>Omnibus:</th>       <td>145.990</td> <th>  Durbin-Watson:     </th> <td>   0.134</td> \n",
       "</tr>\n",
       "<tr>\n",
       "  <th>Prob(Omnibus):</th> <td> 0.000</td>  <th>  Jarque-Bera (JB):  </th> <td> 520.958</td> \n",
       "</tr>\n",
       "<tr>\n",
       "  <th>Skew:</th>          <td> 0.382</td>  <th>  Prob(JB):          </th> <td>7.51e-114</td>\n",
       "</tr>\n",
       "<tr>\n",
       "  <th>Kurtosis:</th>      <td> 5.628</td>  <th>  Cond. No.          </th> <td>6.66e+08</td> \n",
       "</tr>\n",
       "</table>"
      ],
      "text/plain": [
       "<class 'statsmodels.iolib.summary.Summary'>\n",
       "\"\"\"\n",
       "                            OLS Regression Results                            \n",
       "==============================================================================\n",
       "Dep. Variable:                log_S&P   R-squared:                       0.990\n",
       "Model:                            OLS   Adj. R-squared:                  0.990\n",
       "Method:                 Least Squares   F-statistic:                 2.301e+04\n",
       "Date:                Wed, 17 Apr 2019   Prob (F-statistic):               0.00\n",
       "Time:                        15:56:43   Log-Likelihood:                 325.32\n",
       "No. Observations:                1669   AIC:                            -634.6\n",
       "Df Residuals:                    1661   BIC:                            -591.3\n",
       "Df Model:                           7                                         \n",
       "Covariance Type:            nonrobust                                         \n",
       "========================================================================================\n",
       "                           coef    std err          t      P>|t|      [0.025      0.975]\n",
       "----------------------------------------------------------------------------------------\n",
       "Dividend_yield        -242.2885      4.922    -49.225      0.000    -251.943    -232.634\n",
       "log_earning              0.4146      0.015     27.258      0.000       0.385       0.444\n",
       "log_CPI                  0.7235      0.031     23.686      0.000       0.664       0.783\n",
       "10-year rate            -3.4408      0.254    -13.553      0.000      -3.939      -2.943\n",
       "log_gold                 0.0092      0.012      0.734      0.463      -0.015       0.034\n",
       "Accumulate_president  2.607e-07   6.72e-08      3.877      0.000    1.29e-07    3.93e-07\n",
       "Temperature              0.1149      0.031      3.661      0.000       0.053       0.176\n",
       "const                    2.7313      0.099     27.640      0.000       2.537       2.925\n",
       "==============================================================================\n",
       "Omnibus:                      145.990   Durbin-Watson:                   0.134\n",
       "Prob(Omnibus):                  0.000   Jarque-Bera (JB):              520.958\n",
       "Skew:                           0.382   Prob(JB):                    7.51e-114\n",
       "Kurtosis:                       5.628   Cond. No.                     6.66e+08\n",
       "==============================================================================\n",
       "\n",
       "Warnings:\n",
       "[1] Standard Errors assume that the covariance matrix of the errors is correctly specified.\n",
       "[2] The condition number is large, 6.66e+08. This might indicate that there are\n",
       "strong multicollinearity or other numerical problems.\n",
       "\"\"\""
      ]
     },
     "execution_count": 49,
     "metadata": {},
     "output_type": "execute_result"
    }
   ],
   "source": [
    "#ask Zeshun for how to do regression - check myself on why [1:] and [:-1]\n",
    "regression_data = transform_data[[\"Dividend_yield\",\"log_earning\", \"log_CPI\", \"10-year rate\",\"log_gold\",\"Accumulate_president\",\"Temperature\"]][:-1].copy()\n",
    "regression_data[\"log_S&P\"] = transform_data[\"log_S&P\"][1:].values\n",
    "\n",
    "regression_data = sm.add_constant(regression_data)\n",
    "X = [\"Dividend_yield\",\"log_earning\", \"log_CPI\", \"10-year rate\",\"log_gold\",\"Accumulate_president\",\"Temperature\",\"const\"]\n",
    "reg = sm.OLS(endog=regression_data[\"log_S&P\"], exog=regression_data[X]).fit()\n",
    "reg.summary()"
   ]
  },
  {
   "cell_type": "markdown",
   "metadata": {},
   "source": [
    "S&P 500 price is negatively related to divident yield."
   ]
  },
  {
   "cell_type": "markdown",
   "metadata": {},
   "source": [
    "# Question 5: Repeat 4 for the price of gold in month t as the dependent variable."
   ]
  },
  {
   "cell_type": "code",
   "execution_count": 50,
   "metadata": {},
   "outputs": [
    {
     "data": {
      "text/html": [
       "<table class=\"simpletable\">\n",
       "<caption>OLS Regression Results</caption>\n",
       "<tr>\n",
       "  <th>Dep. Variable:</th>        <td>log_gold</td>     <th>  R-squared:         </th> <td>   0.923</td>\n",
       "</tr>\n",
       "<tr>\n",
       "  <th>Model:</th>                   <td>OLS</td>       <th>  Adj. R-squared:    </th> <td>   0.922</td>\n",
       "</tr>\n",
       "<tr>\n",
       "  <th>Method:</th>             <td>Least Squares</td>  <th>  F-statistic:       </th> <td>   2826.</td>\n",
       "</tr>\n",
       "<tr>\n",
       "  <th>Date:</th>             <td>Wed, 17 Apr 2019</td> <th>  Prob (F-statistic):</th>  <td>  0.00</td> \n",
       "</tr>\n",
       "<tr>\n",
       "  <th>Time:</th>                 <td>15:59:04</td>     <th>  Log-Likelihood:    </th> <td> -807.33</td>\n",
       "</tr>\n",
       "<tr>\n",
       "  <th>No. Observations:</th>      <td>  1669</td>      <th>  AIC:               </th> <td>   1631.</td>\n",
       "</tr>\n",
       "<tr>\n",
       "  <th>Df Residuals:</th>          <td>  1661</td>      <th>  BIC:               </th> <td>   1674.</td>\n",
       "</tr>\n",
       "<tr>\n",
       "  <th>Df Model:</th>              <td>     7</td>      <th>                     </th>     <td> </td>   \n",
       "</tr>\n",
       "<tr>\n",
       "  <th>Covariance Type:</th>      <td>nonrobust</td>    <th>                     </th>     <td> </td>   \n",
       "</tr>\n",
       "</table>\n",
       "<table class=\"simpletable\">\n",
       "<tr>\n",
       "            <td></td>              <th>coef</th>     <th>std err</th>      <th>t</th>      <th>P>|t|</th>  <th>[0.025</th>    <th>0.975]</th>  \n",
       "</tr>\n",
       "<tr>\n",
       "  <th>log_S&P</th>              <td>    0.0221</td> <td>    0.049</td> <td>    0.454</td> <td> 0.650</td> <td>   -0.073</td> <td>    0.118</td>\n",
       "</tr>\n",
       "<tr>\n",
       "  <th>Dividend_yield</th>       <td>   29.6549</td> <td>   15.283</td> <td>    1.940</td> <td> 0.052</td> <td>   -0.321</td> <td>   59.631</td>\n",
       "</tr>\n",
       "<tr>\n",
       "  <th>log_earning</th>          <td>    0.1191</td> <td>    0.036</td> <td>    3.300</td> <td> 0.001</td> <td>    0.048</td> <td>    0.190</td>\n",
       "</tr>\n",
       "<tr>\n",
       "  <th>log_CPI</th>              <td>    1.1478</td> <td>    0.064</td> <td>   18.013</td> <td> 0.000</td> <td>    1.023</td> <td>    1.273</td>\n",
       "</tr>\n",
       "<tr>\n",
       "  <th>10-year rate</th>         <td>    2.6533</td> <td>    0.522</td> <td>    5.079</td> <td> 0.000</td> <td>    1.629</td> <td>    3.678</td>\n",
       "</tr>\n",
       "<tr>\n",
       "  <th>Accumulate_president</th> <td>-1.588e-06</td> <td> 1.27e-07</td> <td>  -12.496</td> <td> 0.000</td> <td>-1.84e-06</td> <td>-1.34e-06</td>\n",
       "</tr>\n",
       "<tr>\n",
       "  <th>Temperature</th>          <td>    0.8551</td> <td>    0.058</td> <td>   14.627</td> <td> 0.000</td> <td>    0.740</td> <td>    0.970</td>\n",
       "</tr>\n",
       "<tr>\n",
       "  <th>const</th>                <td>    1.0096</td> <td>    0.235</td> <td>    4.289</td> <td> 0.000</td> <td>    0.548</td> <td>    1.471</td>\n",
       "</tr>\n",
       "</table>\n",
       "<table class=\"simpletable\">\n",
       "<tr>\n",
       "  <th>Omnibus:</th>       <td>113.556</td> <th>  Durbin-Watson:     </th> <td>   0.084</td>\n",
       "</tr>\n",
       "<tr>\n",
       "  <th>Prob(Omnibus):</th> <td> 0.000</td>  <th>  Jarque-Bera (JB):  </th> <td>  40.031</td>\n",
       "</tr>\n",
       "<tr>\n",
       "  <th>Skew:</th>          <td> 0.002</td>  <th>  Prob(JB):          </th> <td>2.03e-09</td>\n",
       "</tr>\n",
       "<tr>\n",
       "  <th>Kurtosis:</th>      <td> 2.241</td>  <th>  Cond. No.          </th> <td>1.05e+09</td>\n",
       "</tr>\n",
       "</table>"
      ],
      "text/plain": [
       "<class 'statsmodels.iolib.summary.Summary'>\n",
       "\"\"\"\n",
       "                            OLS Regression Results                            \n",
       "==============================================================================\n",
       "Dep. Variable:               log_gold   R-squared:                       0.923\n",
       "Model:                            OLS   Adj. R-squared:                  0.922\n",
       "Method:                 Least Squares   F-statistic:                     2826.\n",
       "Date:                Wed, 17 Apr 2019   Prob (F-statistic):               0.00\n",
       "Time:                        15:59:04   Log-Likelihood:                -807.33\n",
       "No. Observations:                1669   AIC:                             1631.\n",
       "Df Residuals:                    1661   BIC:                             1674.\n",
       "Df Model:                           7                                         \n",
       "Covariance Type:            nonrobust                                         \n",
       "========================================================================================\n",
       "                           coef    std err          t      P>|t|      [0.025      0.975]\n",
       "----------------------------------------------------------------------------------------\n",
       "log_S&P                  0.0221      0.049      0.454      0.650      -0.073       0.118\n",
       "Dividend_yield          29.6549     15.283      1.940      0.052      -0.321      59.631\n",
       "log_earning              0.1191      0.036      3.300      0.001       0.048       0.190\n",
       "log_CPI                  1.1478      0.064     18.013      0.000       1.023       1.273\n",
       "10-year rate             2.6533      0.522      5.079      0.000       1.629       3.678\n",
       "Accumulate_president -1.588e-06   1.27e-07    -12.496      0.000   -1.84e-06   -1.34e-06\n",
       "Temperature              0.8551      0.058     14.627      0.000       0.740       0.970\n",
       "const                    1.0096      0.235      4.289      0.000       0.548       1.471\n",
       "==============================================================================\n",
       "Omnibus:                      113.556   Durbin-Watson:                   0.084\n",
       "Prob(Omnibus):                  0.000   Jarque-Bera (JB):               40.031\n",
       "Skew:                           0.002   Prob(JB):                     2.03e-09\n",
       "Kurtosis:                       2.241   Cond. No.                     1.05e+09\n",
       "==============================================================================\n",
       "\n",
       "Warnings:\n",
       "[1] Standard Errors assume that the covariance matrix of the errors is correctly specified.\n",
       "[2] The condition number is large, 1.05e+09. This might indicate that there are\n",
       "strong multicollinearity or other numerical problems.\n",
       "\"\"\""
      ]
     },
     "execution_count": 50,
     "metadata": {},
     "output_type": "execute_result"
    }
   ],
   "source": [
    "regression_data = transform_data[[\"log_S&P\",\"Dividend_yield\",\"log_earning\", \"log_CPI\", \"10-year rate\",\"Accumulate_president\",\"Temperature\"]][:-1].copy()\n",
    "regression_data[\"log_gold\"] = transform_data[\"log_gold\"][1:].values\n",
    "\n",
    "regression_data = sm.add_constant(regression_data)\n",
    "X = [\"log_S&P\",\"Dividend_yield\",\"log_earning\", \"log_CPI\", \"10-year rate\",\"Accumulate_president\",\"Temperature\",\"const\"]\n",
    "reg = sm.OLS(endog=regression_data[\"log_gold\"], exog=regression_data[X]).fit()\n",
    "reg.summary()"
   ]
  },
  {
   "cell_type": "markdown",
   "metadata": {},
   "source": [
    "# Question 6: Repeat 5 for the dividend yield as the dependent variable."
   ]
  },
  {
   "cell_type": "code",
   "execution_count": 51,
   "metadata": {},
   "outputs": [
    {
     "data": {
      "text/html": [
       "<table class=\"simpletable\">\n",
       "<caption>OLS Regression Results</caption>\n",
       "<tr>\n",
       "  <th>Dep. Variable:</th>     <td>Dividend_yield</td>  <th>  R-squared:         </th>  <td>   0.795</td> \n",
       "</tr>\n",
       "<tr>\n",
       "  <th>Model:</th>                   <td>OLS</td>       <th>  Adj. R-squared:    </th>  <td>   0.794</td> \n",
       "</tr>\n",
       "<tr>\n",
       "  <th>Method:</th>             <td>Least Squares</td>  <th>  F-statistic:       </th>  <td>   918.4</td> \n",
       "</tr>\n",
       "<tr>\n",
       "  <th>Date:</th>             <td>Wed, 17 Apr 2019</td> <th>  Prob (F-statistic):</th>   <td>  0.00</td>  \n",
       "</tr>\n",
       "<tr>\n",
       "  <th>Time:</th>                 <td>16:00:08</td>     <th>  Log-Likelihood:    </th>  <td>  9889.0</td> \n",
       "</tr>\n",
       "<tr>\n",
       "  <th>No. Observations:</th>      <td>  1669</td>      <th>  AIC:               </th> <td>-1.976e+04</td>\n",
       "</tr>\n",
       "<tr>\n",
       "  <th>Df Residuals:</th>          <td>  1661</td>      <th>  BIC:               </th> <td>-1.972e+04</td>\n",
       "</tr>\n",
       "<tr>\n",
       "  <th>Df Model:</th>              <td>     7</td>      <th>                     </th>      <td> </td>    \n",
       "</tr>\n",
       "<tr>\n",
       "  <th>Covariance Type:</th>      <td>nonrobust</td>    <th>                     </th>      <td> </td>    \n",
       "</tr>\n",
       "</table>\n",
       "<table class=\"simpletable\">\n",
       "<tr>\n",
       "            <td></td>              <th>coef</th>     <th>std err</th>      <th>t</th>      <th>P>|t|</th>  <th>[0.025</th>    <th>0.975]</th>  \n",
       "</tr>\n",
       "<tr>\n",
       "  <th>log_S&P</th>              <td>   -0.0024</td> <td> 5.09e-05</td> <td>  -47.924</td> <td> 0.000</td> <td>   -0.003</td> <td>   -0.002</td>\n",
       "</tr>\n",
       "<tr>\n",
       "  <th>log_earning</th>          <td>    0.0007</td> <td>  5.7e-05</td> <td>   13.120</td> <td> 0.000</td> <td>    0.001</td> <td>    0.001</td>\n",
       "</tr>\n",
       "<tr>\n",
       "  <th>log_CPI</th>              <td>    0.0017</td> <td>    0.000</td> <td>   15.673</td> <td> 0.000</td> <td>    0.001</td> <td>    0.002</td>\n",
       "</tr>\n",
       "<tr>\n",
       "  <th>10-year rate</th>         <td>   -0.0042</td> <td>    0.001</td> <td>   -4.873</td> <td> 0.000</td> <td>   -0.006</td> <td>   -0.003</td>\n",
       "</tr>\n",
       "<tr>\n",
       "  <th>log_gold</th>             <td> 5.827e-05</td> <td> 4.05e-05</td> <td>    1.439</td> <td> 0.150</td> <td>-2.12e-05</td> <td>    0.000</td>\n",
       "</tr>\n",
       "<tr>\n",
       "  <th>Accumulate_president</th> <td> 1.009e-09</td> <td> 2.17e-10</td> <td>    4.644</td> <td> 0.000</td> <td> 5.83e-10</td> <td> 1.44e-09</td>\n",
       "</tr>\n",
       "<tr>\n",
       "  <th>Temperature</th>          <td>    0.0002</td> <td>    0.000</td> <td>    2.144</td> <td> 0.032</td> <td> 1.87e-05</td> <td>    0.000</td>\n",
       "</tr>\n",
       "<tr>\n",
       "  <th>const</th>                <td>    0.0075</td> <td>    0.000</td> <td>   21.861</td> <td> 0.000</td> <td>    0.007</td> <td>    0.008</td>\n",
       "</tr>\n",
       "</table>\n",
       "<table class=\"simpletable\">\n",
       "<tr>\n",
       "  <th>Omnibus:</th>       <td>935.169</td> <th>  Durbin-Watson:     </th> <td>   0.170</td> \n",
       "</tr>\n",
       "<tr>\n",
       "  <th>Prob(Omnibus):</th> <td> 0.000</td>  <th>  Jarque-Bera (JB):  </th> <td>15744.877</td>\n",
       "</tr>\n",
       "<tr>\n",
       "  <th>Skew:</th>          <td> 2.255</td>  <th>  Prob(JB):          </th> <td>    0.00</td> \n",
       "</tr>\n",
       "<tr>\n",
       "  <th>Kurtosis:</th>      <td>17.355</td>  <th>  Cond. No.          </th> <td>3.59e+07</td> \n",
       "</tr>\n",
       "</table>"
      ],
      "text/plain": [
       "<class 'statsmodels.iolib.summary.Summary'>\n",
       "\"\"\"\n",
       "                            OLS Regression Results                            \n",
       "==============================================================================\n",
       "Dep. Variable:         Dividend_yield   R-squared:                       0.795\n",
       "Model:                            OLS   Adj. R-squared:                  0.794\n",
       "Method:                 Least Squares   F-statistic:                     918.4\n",
       "Date:                Wed, 17 Apr 2019   Prob (F-statistic):               0.00\n",
       "Time:                        16:00:08   Log-Likelihood:                 9889.0\n",
       "No. Observations:                1669   AIC:                        -1.976e+04\n",
       "Df Residuals:                    1661   BIC:                        -1.972e+04\n",
       "Df Model:                           7                                         \n",
       "Covariance Type:            nonrobust                                         \n",
       "========================================================================================\n",
       "                           coef    std err          t      P>|t|      [0.025      0.975]\n",
       "----------------------------------------------------------------------------------------\n",
       "log_S&P                 -0.0024   5.09e-05    -47.924      0.000      -0.003      -0.002\n",
       "log_earning              0.0007    5.7e-05     13.120      0.000       0.001       0.001\n",
       "log_CPI                  0.0017      0.000     15.673      0.000       0.001       0.002\n",
       "10-year rate            -0.0042      0.001     -4.873      0.000      -0.006      -0.003\n",
       "log_gold              5.827e-05   4.05e-05      1.439      0.150   -2.12e-05       0.000\n",
       "Accumulate_president  1.009e-09   2.17e-10      4.644      0.000    5.83e-10    1.44e-09\n",
       "Temperature              0.0002      0.000      2.144      0.032    1.87e-05       0.000\n",
       "const                    0.0075      0.000     21.861      0.000       0.007       0.008\n",
       "==============================================================================\n",
       "Omnibus:                      935.169   Durbin-Watson:                   0.170\n",
       "Prob(Omnibus):                  0.000   Jarque-Bera (JB):            15744.877\n",
       "Skew:                           2.255   Prob(JB):                         0.00\n",
       "Kurtosis:                      17.355   Cond. No.                     3.59e+07\n",
       "==============================================================================\n",
       "\n",
       "Warnings:\n",
       "[1] Standard Errors assume that the covariance matrix of the errors is correctly specified.\n",
       "[2] The condition number is large, 3.59e+07. This might indicate that there are\n",
       "strong multicollinearity or other numerical problems.\n",
       "\"\"\""
      ]
     },
     "execution_count": 51,
     "metadata": {},
     "output_type": "execute_result"
    }
   ],
   "source": [
    "regression_data = transform_data[[\"log_S&P\",\"log_earning\", \"log_CPI\", \"10-year rate\",\"log_gold\",\"Accumulate_president\",\"Temperature\"]][:-1].copy()\n",
    "regression_data[\"Dividend_yield\"] = transform_data[\"Dividend_yield\"][1:].values\n",
    "\n",
    "regression_data = sm.add_constant(regression_data)\n",
    "X = [\"log_S&P\",\"log_earning\", \"log_CPI\", \"10-year rate\",\"log_gold\",\"Accumulate_president\",\"Temperature\",\"const\"]\n",
    "reg = sm.OLS(endog=regression_data[\"Dividend_yield\"], exog=regression_data[X]).fit()\n",
    "reg.summary()"
   ]
  },
  {
   "cell_type": "code",
   "execution_count": null,
   "metadata": {},
   "outputs": [],
   "source": []
  }
 ],
 "metadata": {
  "kernelspec": {
   "display_name": "Python 3",
   "language": "python",
   "name": "python3"
  },
  "language_info": {
   "codemirror_mode": {
    "name": "ipython",
    "version": 3
   },
   "file_extension": ".py",
   "mimetype": "text/x-python",
   "name": "python",
   "nbconvert_exporter": "python",
   "pygments_lexer": "ipython3",
   "version": "3.6.4"
  }
 },
 "nbformat": 4,
 "nbformat_minor": 2
}
